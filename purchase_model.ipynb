{
 "cells": [
  {
   "cell_type": "code",
   "execution_count": 1,
   "metadata": {
    "collapsed": false
   },
   "outputs": [],
   "source": [
    "import pandas as pd\n",
    "import numpy as np\n",
    "import pickle\n",
    "\n",
    "from sklearn import linear_model, neighbors, ensemble\n",
    "from sklearn.cross_validation import train_test_split\n",
    "from sklearn.metrics import confusion_matrix, mean_squared_error\n",
    "\n",
    "\n",
    "from querents import Querent\n",
    "import utils\n",
    "\n",
    "\n",
    "data_fp = '/mnt/c/data/b2w'\n",
    "historic_fp = data_fp + '/past_bids.csv'\n"
   ]
  },
  {
   "cell_type": "code",
   "execution_count": 2,
   "metadata": {
    "collapsed": false
   },
   "outputs": [],
   "source": [
    "historic = pd.read_csv(historic_fp)\n",
    "historic = historic.fillna({'profit': 0})\n",
    "\n",
    "train, test = train_test_split(historic, test_size = 0.2)"
   ]
  },
  {
   "cell_type": "code",
   "execution_count": 3,
   "metadata": {
    "collapsed": false
   },
   "outputs": [
    {
     "data": {
      "text/plain": [
       "10.130785791173304"
      ]
     },
     "execution_count": 3,
     "metadata": {},
     "output_type": "execute_result"
    }
   ],
   "source": [
    "mean_purchase_amt = train.loc[train.purchase == True, 'profit'].mean()\n",
    "mean_purchase_amt"
   ]
  },
  {
   "cell_type": "code",
   "execution_count": 4,
   "metadata": {
    "collapsed": false
   },
   "outputs": [],
   "source": [
    "train_feat = utils.frame_to_features(train)\n",
    "test_feat = utils.frame_to_features(test)\n",
    "\n",
    "res = pd.DataFrame(index = test.index)\n",
    "res['purchase'] = test.purchase\n",
    "res['profit'] = test.profit"
   ]
  },
  {
   "cell_type": "code",
   "execution_count": null,
   "metadata": {
    "collapsed": false
   },
   "outputs": [],
   "source": []
  },
  {
   "cell_type": "code",
   "execution_count": 5,
   "metadata": {
    "collapsed": false
   },
   "outputs": [],
   "source": [
    "log_mod = linear_model.LogisticRegression().fit(train_feat, train.purchase)\n",
    "lin_mod = linear_model.LinearRegression().fit(train_feat, train.profit)\n",
    "#gbm_mod = ensemble.GradientBoostingRegressor().fit(train_feat, train.profit)\n",
    "bayes_mod = linear_model.BayesianRidge().fit(train_feat, train.profit)"
   ]
  },
  {
   "cell_type": "code",
   "execution_count": 17,
   "metadata": {
    "collapsed": false
   },
   "outputs": [
    {
     "name": "stderr",
     "output_type": "stream",
     "text": [
      "/home/cbonnell/anaconda/lib/python3.5/site-packages/sklearn/utils/validation.py:386: DeprecationWarning: Passing 1d arrays as data is deprecated in 0.17 and willraise ValueError in 0.19. Reshape your data either using X.reshape(-1, 1) if your data has a single feature or X.reshape(1, -1) if it contains a single sample.\n",
      "  DeprecationWarning)\n"
     ]
    },
    {
     "data": {
      "text/plain": [
       "0.27983035375775622"
      ]
     },
     "execution_count": 17,
     "metadata": {},
     "output_type": "execute_result"
    }
   ],
   "source": [
    "foo = train_feat.loc[0]\n",
    "bar = log_mod.predict_proba(foo)[:,1][0]\n",
    "bar"
   ]
  },
  {
   "cell_type": "code",
   "execution_count": null,
   "metadata": {
    "collapsed": false
   },
   "outputs": [],
   "source": []
  },
  {
   "cell_type": "code",
   "execution_count": null,
   "metadata": {
    "collapsed": false
   },
   "outputs": [],
   "source": []
  },
  {
   "cell_type": "code",
   "execution_count": 6,
   "metadata": {
    "collapsed": false,
    "scrolled": false
   },
   "outputs": [],
   "source": [
    "res['log_class'] = log_mod.predict(test_feat)\n",
    "res['log_purchase'] = log_mod.predict_proba(test_feat)[:, 1]\n",
    "res['log_profit'] = res['log_purchase'] * mean_purchase_amt\n",
    "res['pred_profit'] = lin_mod.predict(test_feat)\n",
    "res['bayes_profit'] = bayes_mod.predict(test_feat)"
   ]
  },
  {
   "cell_type": "code",
   "execution_count": 7,
   "metadata": {
    "collapsed": false
   },
   "outputs": [
    {
     "data": {
      "text/html": [
       "<div>\n",
       "<table border=\"1\" class=\"dataframe\">\n",
       "  <thead>\n",
       "    <tr style=\"text-align: right;\">\n",
       "      <th></th>\n",
       "      <th>purchase</th>\n",
       "      <th>profit</th>\n",
       "      <th>log_class</th>\n",
       "      <th>log_purchase</th>\n",
       "      <th>log_profit</th>\n",
       "      <th>pred_profit</th>\n",
       "      <th>bayes_profit</th>\n",
       "    </tr>\n",
       "  </thead>\n",
       "  <tbody>\n",
       "    <tr>\n",
       "      <th>26355</th>\n",
       "      <td>True</td>\n",
       "      <td>15.0</td>\n",
       "      <td>False</td>\n",
       "      <td>0.381313</td>\n",
       "      <td>3.882245</td>\n",
       "      <td>3.891602</td>\n",
       "      <td>3.915134</td>\n",
       "    </tr>\n",
       "    <tr>\n",
       "      <th>20977</th>\n",
       "      <td>False</td>\n",
       "      <td>0.0</td>\n",
       "      <td>True</td>\n",
       "      <td>0.542515</td>\n",
       "      <td>5.523484</td>\n",
       "      <td>5.124023</td>\n",
       "      <td>5.125090</td>\n",
       "    </tr>\n",
       "    <tr>\n",
       "      <th>34246</th>\n",
       "      <td>False</td>\n",
       "      <td>0.0</td>\n",
       "      <td>False</td>\n",
       "      <td>0.081714</td>\n",
       "      <td>0.831951</td>\n",
       "      <td>0.198242</td>\n",
       "      <td>0.215557</td>\n",
       "    </tr>\n",
       "    <tr>\n",
       "      <th>5809</th>\n",
       "      <td>False</td>\n",
       "      <td>0.0</td>\n",
       "      <td>False</td>\n",
       "      <td>0.318072</td>\n",
       "      <td>3.238373</td>\n",
       "      <td>3.470703</td>\n",
       "      <td>3.413100</td>\n",
       "    </tr>\n",
       "    <tr>\n",
       "      <th>3947</th>\n",
       "      <td>True</td>\n",
       "      <td>11.0</td>\n",
       "      <td>False</td>\n",
       "      <td>0.422203</td>\n",
       "      <td>4.298554</td>\n",
       "      <td>4.233887</td>\n",
       "      <td>4.256306</td>\n",
       "    </tr>\n",
       "    <tr>\n",
       "      <th>84</th>\n",
       "      <td>True</td>\n",
       "      <td>9.0</td>\n",
       "      <td>False</td>\n",
       "      <td>0.258034</td>\n",
       "      <td>2.627109</td>\n",
       "      <td>2.849609</td>\n",
       "      <td>2.816658</td>\n",
       "    </tr>\n",
       "    <tr>\n",
       "      <th>9210</th>\n",
       "      <td>True</td>\n",
       "      <td>15.0</td>\n",
       "      <td>False</td>\n",
       "      <td>0.334707</td>\n",
       "      <td>3.407740</td>\n",
       "      <td>3.508789</td>\n",
       "      <td>3.532997</td>\n",
       "    </tr>\n",
       "    <tr>\n",
       "      <th>16232</th>\n",
       "      <td>False</td>\n",
       "      <td>0.0</td>\n",
       "      <td>False</td>\n",
       "      <td>0.460734</td>\n",
       "      <td>4.690852</td>\n",
       "      <td>4.477051</td>\n",
       "      <td>4.482026</td>\n",
       "    </tr>\n",
       "    <tr>\n",
       "      <th>26057</th>\n",
       "      <td>True</td>\n",
       "      <td>7.0</td>\n",
       "      <td>True</td>\n",
       "      <td>0.611455</td>\n",
       "      <td>6.225384</td>\n",
       "      <td>5.694824</td>\n",
       "      <td>5.652383</td>\n",
       "    </tr>\n",
       "    <tr>\n",
       "      <th>19111</th>\n",
       "      <td>False</td>\n",
       "      <td>0.0</td>\n",
       "      <td>False</td>\n",
       "      <td>0.454498</td>\n",
       "      <td>4.627361</td>\n",
       "      <td>4.441895</td>\n",
       "      <td>4.446139</td>\n",
       "    </tr>\n",
       "    <tr>\n",
       "      <th>25338</th>\n",
       "      <td>True</td>\n",
       "      <td>10.0</td>\n",
       "      <td>True</td>\n",
       "      <td>0.566510</td>\n",
       "      <td>5.767784</td>\n",
       "      <td>5.343262</td>\n",
       "      <td>5.363087</td>\n",
       "    </tr>\n",
       "    <tr>\n",
       "      <th>46525</th>\n",
       "      <td>False</td>\n",
       "      <td>0.0</td>\n",
       "      <td>False</td>\n",
       "      <td>0.152635</td>\n",
       "      <td>1.554017</td>\n",
       "      <td>1.592773</td>\n",
       "      <td>1.628652</td>\n",
       "    </tr>\n",
       "    <tr>\n",
       "      <th>10679</th>\n",
       "      <td>True</td>\n",
       "      <td>9.0</td>\n",
       "      <td>True</td>\n",
       "      <td>0.521869</td>\n",
       "      <td>5.313281</td>\n",
       "      <td>4.966309</td>\n",
       "      <td>4.968083</td>\n",
       "    </tr>\n",
       "    <tr>\n",
       "      <th>27198</th>\n",
       "      <td>False</td>\n",
       "      <td>0.0</td>\n",
       "      <td>False</td>\n",
       "      <td>0.235528</td>\n",
       "      <td>2.397971</td>\n",
       "      <td>2.594238</td>\n",
       "      <td>2.560732</td>\n",
       "    </tr>\n",
       "    <tr>\n",
       "      <th>22145</th>\n",
       "      <td>False</td>\n",
       "      <td>0.0</td>\n",
       "      <td>False</td>\n",
       "      <td>0.479728</td>\n",
       "      <td>4.884232</td>\n",
       "      <td>4.651367</td>\n",
       "      <td>4.654800</td>\n",
       "    </tr>\n",
       "    <tr>\n",
       "      <th>5982</th>\n",
       "      <td>False</td>\n",
       "      <td>0.0</td>\n",
       "      <td>False</td>\n",
       "      <td>0.304787</td>\n",
       "      <td>3.103118</td>\n",
       "      <td>3.283203</td>\n",
       "      <td>3.247204</td>\n",
       "    </tr>\n",
       "    <tr>\n",
       "      <th>21349</th>\n",
       "      <td>True</td>\n",
       "      <td>8.0</td>\n",
       "      <td>False</td>\n",
       "      <td>0.398998</td>\n",
       "      <td>4.062300</td>\n",
       "      <td>4.076660</td>\n",
       "      <td>4.039475</td>\n",
       "    </tr>\n",
       "    <tr>\n",
       "      <th>1684</th>\n",
       "      <td>True</td>\n",
       "      <td>7.0</td>\n",
       "      <td>False</td>\n",
       "      <td>0.448409</td>\n",
       "      <td>4.565373</td>\n",
       "      <td>4.418945</td>\n",
       "      <td>4.440378</td>\n",
       "    </tr>\n",
       "    <tr>\n",
       "      <th>3099</th>\n",
       "      <td>False</td>\n",
       "      <td>0.0</td>\n",
       "      <td>False</td>\n",
       "      <td>0.194822</td>\n",
       "      <td>1.983537</td>\n",
       "      <td>2.165527</td>\n",
       "      <td>2.198409</td>\n",
       "    </tr>\n",
       "    <tr>\n",
       "      <th>41394</th>\n",
       "      <td>True</td>\n",
       "      <td>16.0</td>\n",
       "      <td>True</td>\n",
       "      <td>0.583007</td>\n",
       "      <td>5.935745</td>\n",
       "      <td>5.482910</td>\n",
       "      <td>5.440153</td>\n",
       "    </tr>\n",
       "    <tr>\n",
       "      <th>36124</th>\n",
       "      <td>False</td>\n",
       "      <td>0.0</td>\n",
       "      <td>False</td>\n",
       "      <td>0.184333</td>\n",
       "      <td>1.876742</td>\n",
       "      <td>2.034180</td>\n",
       "      <td>2.003202</td>\n",
       "    </tr>\n",
       "    <tr>\n",
       "      <th>47018</th>\n",
       "      <td>True</td>\n",
       "      <td>9.0</td>\n",
       "      <td>False</td>\n",
       "      <td>0.494545</td>\n",
       "      <td>5.035089</td>\n",
       "      <td>4.794922</td>\n",
       "      <td>4.816199</td>\n",
       "    </tr>\n",
       "    <tr>\n",
       "      <th>42144</th>\n",
       "      <td>False</td>\n",
       "      <td>0.0</td>\n",
       "      <td>False</td>\n",
       "      <td>0.150206</td>\n",
       "      <td>1.529290</td>\n",
       "      <td>1.514648</td>\n",
       "      <td>1.526831</td>\n",
       "    </tr>\n",
       "    <tr>\n",
       "      <th>27625</th>\n",
       "      <td>True</td>\n",
       "      <td>12.0</td>\n",
       "      <td>True</td>\n",
       "      <td>0.503423</td>\n",
       "      <td>5.125481</td>\n",
       "      <td>4.874023</td>\n",
       "      <td>4.833340</td>\n",
       "    </tr>\n",
       "    <tr>\n",
       "      <th>18525</th>\n",
       "      <td>False</td>\n",
       "      <td>0.0</td>\n",
       "      <td>False</td>\n",
       "      <td>0.213929</td>\n",
       "      <td>2.178069</td>\n",
       "      <td>2.333008</td>\n",
       "      <td>2.342766</td>\n",
       "    </tr>\n",
       "    <tr>\n",
       "      <th>29624</th>\n",
       "      <td>False</td>\n",
       "      <td>0.0</td>\n",
       "      <td>False</td>\n",
       "      <td>0.133163</td>\n",
       "      <td>1.355762</td>\n",
       "      <td>1.339844</td>\n",
       "      <td>1.287583</td>\n",
       "    </tr>\n",
       "    <tr>\n",
       "      <th>22150</th>\n",
       "      <td>True</td>\n",
       "      <td>10.0</td>\n",
       "      <td>False</td>\n",
       "      <td>0.481906</td>\n",
       "      <td>4.906409</td>\n",
       "      <td>4.699219</td>\n",
       "      <td>4.724548</td>\n",
       "    </tr>\n",
       "    <tr>\n",
       "      <th>4181</th>\n",
       "      <td>True</td>\n",
       "      <td>11.0</td>\n",
       "      <td>False</td>\n",
       "      <td>0.193663</td>\n",
       "      <td>1.971730</td>\n",
       "      <td>2.143066</td>\n",
       "      <td>2.110327</td>\n",
       "    </tr>\n",
       "    <tr>\n",
       "      <th>12333</th>\n",
       "      <td>False</td>\n",
       "      <td>0.0</td>\n",
       "      <td>False</td>\n",
       "      <td>0.322557</td>\n",
       "      <td>3.284033</td>\n",
       "      <td>3.456055</td>\n",
       "      <td>3.485916</td>\n",
       "    </tr>\n",
       "    <tr>\n",
       "      <th>48691</th>\n",
       "      <td>False</td>\n",
       "      <td>0.0</td>\n",
       "      <td>False</td>\n",
       "      <td>0.175090</td>\n",
       "      <td>1.782635</td>\n",
       "      <td>1.871582</td>\n",
       "      <td>1.900814</td>\n",
       "    </tr>\n",
       "  </tbody>\n",
       "</table>\n",
       "</div>"
      ],
      "text/plain": [
       "      purchase  profit log_class  log_purchase  log_profit  pred_profit  \\\n",
       "26355     True    15.0     False      0.381313    3.882245     3.891602   \n",
       "20977    False     0.0      True      0.542515    5.523484     5.124023   \n",
       "34246    False     0.0     False      0.081714    0.831951     0.198242   \n",
       "5809     False     0.0     False      0.318072    3.238373     3.470703   \n",
       "3947      True    11.0     False      0.422203    4.298554     4.233887   \n",
       "84        True     9.0     False      0.258034    2.627109     2.849609   \n",
       "9210      True    15.0     False      0.334707    3.407740     3.508789   \n",
       "16232    False     0.0     False      0.460734    4.690852     4.477051   \n",
       "26057     True     7.0      True      0.611455    6.225384     5.694824   \n",
       "19111    False     0.0     False      0.454498    4.627361     4.441895   \n",
       "25338     True    10.0      True      0.566510    5.767784     5.343262   \n",
       "46525    False     0.0     False      0.152635    1.554017     1.592773   \n",
       "10679     True     9.0      True      0.521869    5.313281     4.966309   \n",
       "27198    False     0.0     False      0.235528    2.397971     2.594238   \n",
       "22145    False     0.0     False      0.479728    4.884232     4.651367   \n",
       "5982     False     0.0     False      0.304787    3.103118     3.283203   \n",
       "21349     True     8.0     False      0.398998    4.062300     4.076660   \n",
       "1684      True     7.0     False      0.448409    4.565373     4.418945   \n",
       "3099     False     0.0     False      0.194822    1.983537     2.165527   \n",
       "41394     True    16.0      True      0.583007    5.935745     5.482910   \n",
       "36124    False     0.0     False      0.184333    1.876742     2.034180   \n",
       "47018     True     9.0     False      0.494545    5.035089     4.794922   \n",
       "42144    False     0.0     False      0.150206    1.529290     1.514648   \n",
       "27625     True    12.0      True      0.503423    5.125481     4.874023   \n",
       "18525    False     0.0     False      0.213929    2.178069     2.333008   \n",
       "29624    False     0.0     False      0.133163    1.355762     1.339844   \n",
       "22150     True    10.0     False      0.481906    4.906409     4.699219   \n",
       "4181      True    11.0     False      0.193663    1.971730     2.143066   \n",
       "12333    False     0.0     False      0.322557    3.284033     3.456055   \n",
       "48691    False     0.0     False      0.175090    1.782635     1.871582   \n",
       "\n",
       "       bayes_profit  \n",
       "26355      3.915134  \n",
       "20977      5.125090  \n",
       "34246      0.215557  \n",
       "5809       3.413100  \n",
       "3947       4.256306  \n",
       "84         2.816658  \n",
       "9210       3.532997  \n",
       "16232      4.482026  \n",
       "26057      5.652383  \n",
       "19111      4.446139  \n",
       "25338      5.363087  \n",
       "46525      1.628652  \n",
       "10679      4.968083  \n",
       "27198      2.560732  \n",
       "22145      4.654800  \n",
       "5982       3.247204  \n",
       "21349      4.039475  \n",
       "1684       4.440378  \n",
       "3099       2.198409  \n",
       "41394      5.440153  \n",
       "36124      2.003202  \n",
       "47018      4.816199  \n",
       "42144      1.526831  \n",
       "27625      4.833340  \n",
       "18525      2.342766  \n",
       "29624      1.287583  \n",
       "22150      4.724548  \n",
       "4181       2.110327  \n",
       "12333      3.485916  \n",
       "48691      1.900814  "
      ]
     },
     "execution_count": 7,
     "metadata": {},
     "output_type": "execute_result"
    }
   ],
   "source": [
    "res.head(30)"
   ]
  },
  {
   "cell_type": "code",
   "execution_count": 8,
   "metadata": {
    "collapsed": false
   },
   "outputs": [
    {
     "data": {
      "text/plain": [
       "23.30501447995071"
      ]
     },
     "execution_count": 8,
     "metadata": {},
     "output_type": "execute_result"
    }
   ],
   "source": [
    "mean_squared_error(res.profit, res.log_profit)"
   ]
  },
  {
   "cell_type": "code",
   "execution_count": 9,
   "metadata": {
    "collapsed": false
   },
   "outputs": [
    {
     "data": {
      "text/plain": [
       "23.371519838142394"
      ]
     },
     "execution_count": 9,
     "metadata": {},
     "output_type": "execute_result"
    }
   ],
   "source": [
    "mean_squared_error(res.profit, res.pred_profit)"
   ]
  },
  {
   "cell_type": "code",
   "execution_count": 10,
   "metadata": {
    "collapsed": false
   },
   "outputs": [
    {
     "data": {
      "text/plain": [
       "23.377296380963681"
      ]
     },
     "execution_count": 10,
     "metadata": {},
     "output_type": "execute_result"
    }
   ],
   "source": [
    "mean_squared_error(res.profit, res.bayes_profit)"
   ]
  },
  {
   "cell_type": "code",
   "execution_count": null,
   "metadata": {
    "collapsed": true
   },
   "outputs": [],
   "source": []
  },
  {
   "cell_type": "code",
   "execution_count": null,
   "metadata": {
    "collapsed": false
   },
   "outputs": [],
   "source": [
    "confusion_matrix(res.truth, res.pred, labels = [True, False])"
   ]
  },
  {
   "cell_type": "code",
   "execution_count": null,
   "metadata": {
    "collapsed": false,
    "scrolled": true
   },
   "outputs": [],
   "source": [
    "## Look at the range of scores for prediction of True\n",
    "res.loc[res.pred, :].score.min(), res.loc[res.pred, :].score.max()"
   ]
  },
  {
   "cell_type": "code",
   "execution_count": null,
   "metadata": {
    "collapsed": false
   },
   "outputs": [],
   "source": [
    "## Look at the range of scores for prediction of False\n",
    "res.loc[~res.pred, 'score'].min(), res.loc[~res.pred, 'score'].max()"
   ]
  },
  {
   "cell_type": "code",
   "execution_count": null,
   "metadata": {
    "collapsed": false
   },
   "outputs": [],
   "source": [
    "## Average profit from those predicted to buy something\n",
    "test.loc[res.pred, 'profit'].mean()"
   ]
  },
  {
   "cell_type": "code",
   "execution_count": null,
   "metadata": {
    "collapsed": false
   },
   "outputs": [],
   "source": [
    "## Average profit from those predicted NOT to buy something\n",
    "test.loc[~res.pred, 'profit'].mean()"
   ]
  },
  {
   "cell_type": "markdown",
   "metadata": {
    "collapsed": false
   },
   "source": [
    "The above analysis of our model is useful, but we may be able to get better results by dropping out users we are uncertian about. Unfortunately, the model does not seem to be very certian about anyone... our max score is .66 out or 1.00"
   ]
  },
  {
   "cell_type": "code",
   "execution_count": null,
   "metadata": {
    "collapsed": false
   },
   "outputs": [],
   "source": [
    "test.loc[res.score < 0.25, 'profit'].mean(), test.loc[res.score < 0.25, 'profit'].count()"
   ]
  },
  {
   "cell_type": "code",
   "execution_count": null,
   "metadata": {
    "collapsed": false
   },
   "outputs": [],
   "source": [
    "test.loc[ np.logical_and(0.25 < res.score, res.score < 0.5), 'profit'].mean(), test.loc[ np.logical_and(0.25 < res.score, res.score < 0.5), 'profit'].count()"
   ]
  },
  {
   "cell_type": "code",
   "execution_count": null,
   "metadata": {
    "collapsed": false
   },
   "outputs": [],
   "source": [
    "test.loc[ 0.5 < res.score, 'profit'].mean(), test.loc[ 0.5 < res.score, 'profit'].count()"
   ]
  },
  {
   "cell_type": "code",
   "execution_count": null,
   "metadata": {
    "collapsed": false
   },
   "outputs": [],
   "source": []
  },
  {
   "cell_type": "code",
   "execution_count": null,
   "metadata": {
    "collapsed": true
   },
   "outputs": [],
   "source": [
    "pickle.dump(mod, open( data_fp+'/model.p', 'wb'))"
   ]
  },
  {
   "cell_type": "code",
   "execution_count": null,
   "metadata": {
    "collapsed": true
   },
   "outputs": [],
   "source": []
  },
  {
   "cell_type": "code",
   "execution_count": null,
   "metadata": {
    "collapsed": true
   },
   "outputs": [],
   "source": []
  },
  {
   "cell_type": "code",
   "execution_count": null,
   "metadata": {
    "collapsed": false
   },
   "outputs": [],
   "source": [
    "any(res.pred)"
   ]
  },
  {
   "cell_type": "code",
   "execution_count": null,
   "metadata": {
    "collapsed": true
   },
   "outputs": [],
   "source": []
  }
 ],
 "metadata": {
  "anaconda-cloud": {},
  "kernelspec": {
   "display_name": "Python [conda env:anaconda]",
   "language": "python",
   "name": "conda-env-anaconda-py"
  },
  "language_info": {
   "codemirror_mode": {
    "name": "ipython",
    "version": 3
   },
   "file_extension": ".py",
   "mimetype": "text/x-python",
   "name": "python",
   "nbconvert_exporter": "python",
   "pygments_lexer": "ipython3",
   "version": "3.5.2"
  }
 },
 "nbformat": 4,
 "nbformat_minor": 1
}
