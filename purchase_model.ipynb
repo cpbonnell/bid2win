{
 "cells": [
  {
   "cell_type": "markdown",
   "metadata": {},
   "source": [
    "# Purchase Model"
   ]
  },
  {
   "cell_type": "markdown",
   "metadata": {},
   "source": [
    "The objective of this notebook is to make a supervised machine learning model that will take as inputs the 5 main features we have available, and predict the expected value of the revenue for that user.\n",
    "\n",
    "From previous analysis we know that given the set of users who made a purchase, it is basically impossible to predict the amount of purchase (our hypothesis is that once the generating code decides a user will make a purchase, it then simply uses a random number generator to decide the magnitude of the purchase). It follows then that it is less important to decide the *magnitude* of a purchase that it is to simply predict the *probability* of a purchase. This gives us two options for extimating revenue.\n",
    "\n",
    "The naive way is to simply regress our features against the column labeled \"profit\", which actually listes the revenue from the purchase.\n",
    "\n",
    "The alternative way is to first calculate the mean purchase amount $\\bar{r}$, and then use the features in a model that is trained against the binary column \"purchase.\" This should allow us to predict for a given user $u_i$ the probability they will make a purchase $P(p_i)$. Then the expected revenue for that user is just the probability of a purchase times the expected value of a purchase: $ r_i = P(p_i) * \\bar{r} $"
   ]
  },
  {
   "cell_type": "code",
   "execution_count": 1,
   "metadata": {
    "collapsed": false
   },
   "outputs": [],
   "source": [
    "import pandas as pd\n",
    "import numpy as np\n",
    "import pickle\n",
    "\n",
    "from sklearn import linear_model, neighbors, ensemble\n",
    "from sklearn.cross_validation import train_test_split\n",
    "from sklearn.metrics import confusion_matrix, mean_squared_error\n",
    "\n",
    "\n",
    "from querents import Querent\n",
    "import utils\n",
    "\n",
    "\n",
    "data_fp = '/mnt/c/data/b2w'\n",
    "historic_fp = data_fp + '/past_bids.csv'\n"
   ]
  },
  {
   "cell_type": "markdown",
   "metadata": {},
   "source": [
    "## Computation"
   ]
  },
  {
   "cell_type": "markdown",
   "metadata": {},
   "source": [
    "Start by splitting data into Train and Test sets."
   ]
  },
  {
   "cell_type": "code",
   "execution_count": 2,
   "metadata": {
    "collapsed": false
   },
   "outputs": [],
   "source": [
    "historic = pd.read_csv(historic_fp)\n",
    "historic = historic.fillna({'profit': 0})\n",
    "\n",
    "train, test = train_test_split(historic, test_size = 0.2)"
   ]
  },
  {
   "cell_type": "markdown",
   "metadata": {},
   "source": [
    "Next we compute the expected value of the revenue, given purchase ($\\bar{r}$) as described above..."
   ]
  },
  {
   "cell_type": "code",
   "execution_count": 3,
   "metadata": {
    "collapsed": false
   },
   "outputs": [
    {
     "data": {
      "text/plain": [
       "10.130785791173304"
      ]
     },
     "execution_count": 3,
     "metadata": {},
     "output_type": "execute_result"
    }
   ],
   "source": [
    "mean_purchase_amt = train.loc[train.purchase == True, 'profit'].mean()\n",
    "mean_purchase_amt"
   ]
  },
  {
   "cell_type": "markdown",
   "metadata": {},
   "source": [
    "The 5 available features (gender, marital status, age, income, and day of week) need to be put into the proper form before they can be used for modelling. The `frame_to_features()` function in the `utils` module does these computations. First, both age and gender are scaled and centered  ($x' = (x - \\bar{x}) / \\sigma$), then gender and marital status are each converted to a binary feature, and lastly the day of week is encoded in one-hot manner.\n",
    "\n",
    "Lastly, we create a data frame to hold the results of our computations, starting with our two target variables, purchase and profit (a.k.a. revenue)."
   ]
  },
  {
   "cell_type": "code",
   "execution_count": null,
   "metadata": {
    "collapsed": true
   },
   "outputs": [],
   "source": []
  },
  {
   "cell_type": "code",
   "execution_count": 4,
   "metadata": {
    "collapsed": false
   },
   "outputs": [],
   "source": [
    "train_feat = utils.frame_to_features(train)\n",
    "test_feat = utils.frame_to_features(test)\n",
    "\n",
    "res = pd.DataFrame(index = test.index)\n",
    "res['purchase'] = test.purchase\n",
    "res['profit'] = test.profit"
   ]
  },
  {
   "cell_type": "markdown",
   "metadata": {},
   "source": [
    "Before proceeding we check the correlation matrix to make sure there are no co-linearities that might throw our linear odels off..."
   ]
  },
  {
   "cell_type": "code",
   "execution_count": 22,
   "metadata": {
    "collapsed": false
   },
   "outputs": [
    {
     "data": {
      "text/html": [
       "<div>\n",
       "<table border=\"1\" class=\"dataframe\">\n",
       "  <thead>\n",
       "    <tr style=\"text-align: right;\">\n",
       "      <th></th>\n",
       "      <th>sunday</th>\n",
       "      <th>monday</th>\n",
       "      <th>tuesday</th>\n",
       "      <th>wednesday</th>\n",
       "      <th>thursday</th>\n",
       "      <th>friday</th>\n",
       "      <th>saturday</th>\n",
       "      <th>female</th>\n",
       "      <th>marital_status</th>\n",
       "      <th>age</th>\n",
       "      <th>income</th>\n",
       "    </tr>\n",
       "  </thead>\n",
       "  <tbody>\n",
       "    <tr>\n",
       "      <th>sunday</th>\n",
       "      <td>1.000000</td>\n",
       "      <td>-0.167028</td>\n",
       "      <td>-0.166686</td>\n",
       "      <td>-0.167934</td>\n",
       "      <td>-0.167678</td>\n",
       "      <td>-0.168173</td>\n",
       "      <td>-0.166378</td>\n",
       "      <td>-0.011858</td>\n",
       "      <td>-0.001993</td>\n",
       "      <td>0.003780</td>\n",
       "      <td>0.002538</td>\n",
       "    </tr>\n",
       "    <tr>\n",
       "      <th>monday</th>\n",
       "      <td>-0.167028</td>\n",
       "      <td>1.000000</td>\n",
       "      <td>-0.165501</td>\n",
       "      <td>-0.166740</td>\n",
       "      <td>-0.166486</td>\n",
       "      <td>-0.166978</td>\n",
       "      <td>-0.165195</td>\n",
       "      <td>0.000703</td>\n",
       "      <td>0.000593</td>\n",
       "      <td>-0.003005</td>\n",
       "      <td>-0.000299</td>\n",
       "    </tr>\n",
       "    <tr>\n",
       "      <th>tuesday</th>\n",
       "      <td>-0.166686</td>\n",
       "      <td>-0.165501</td>\n",
       "      <td>1.000000</td>\n",
       "      <td>-0.166398</td>\n",
       "      <td>-0.166145</td>\n",
       "      <td>-0.166635</td>\n",
       "      <td>-0.164856</td>\n",
       "      <td>0.002767</td>\n",
       "      <td>-0.004253</td>\n",
       "      <td>-0.004611</td>\n",
       "      <td>0.004621</td>\n",
       "    </tr>\n",
       "    <tr>\n",
       "      <th>wednesday</th>\n",
       "      <td>-0.167934</td>\n",
       "      <td>-0.166740</td>\n",
       "      <td>-0.166398</td>\n",
       "      <td>1.000000</td>\n",
       "      <td>-0.167389</td>\n",
       "      <td>-0.167883</td>\n",
       "      <td>-0.166091</td>\n",
       "      <td>0.003616</td>\n",
       "      <td>-0.003200</td>\n",
       "      <td>-0.004158</td>\n",
       "      <td>0.005371</td>\n",
       "    </tr>\n",
       "    <tr>\n",
       "      <th>thursday</th>\n",
       "      <td>-0.167678</td>\n",
       "      <td>-0.166486</td>\n",
       "      <td>-0.166145</td>\n",
       "      <td>-0.167389</td>\n",
       "      <td>1.000000</td>\n",
       "      <td>-0.167627</td>\n",
       "      <td>-0.165837</td>\n",
       "      <td>-0.004835</td>\n",
       "      <td>0.000291</td>\n",
       "      <td>0.002299</td>\n",
       "      <td>-0.001736</td>\n",
       "    </tr>\n",
       "    <tr>\n",
       "      <th>friday</th>\n",
       "      <td>-0.168173</td>\n",
       "      <td>-0.166978</td>\n",
       "      <td>-0.166635</td>\n",
       "      <td>-0.167883</td>\n",
       "      <td>-0.167627</td>\n",
       "      <td>1.000000</td>\n",
       "      <td>-0.166327</td>\n",
       "      <td>0.009517</td>\n",
       "      <td>0.008373</td>\n",
       "      <td>0.003850</td>\n",
       "      <td>-0.002589</td>\n",
       "    </tr>\n",
       "    <tr>\n",
       "      <th>saturday</th>\n",
       "      <td>-0.166378</td>\n",
       "      <td>-0.165195</td>\n",
       "      <td>-0.164856</td>\n",
       "      <td>-0.166091</td>\n",
       "      <td>-0.165837</td>\n",
       "      <td>-0.166327</td>\n",
       "      <td>1.000000</td>\n",
       "      <td>0.000110</td>\n",
       "      <td>0.000163</td>\n",
       "      <td>0.001815</td>\n",
       "      <td>-0.007937</td>\n",
       "    </tr>\n",
       "    <tr>\n",
       "      <th>female</th>\n",
       "      <td>-0.011858</td>\n",
       "      <td>0.000703</td>\n",
       "      <td>0.002767</td>\n",
       "      <td>0.003616</td>\n",
       "      <td>-0.004835</td>\n",
       "      <td>0.009517</td>\n",
       "      <td>0.000110</td>\n",
       "      <td>1.000000</td>\n",
       "      <td>0.009797</td>\n",
       "      <td>0.002855</td>\n",
       "      <td>-0.007109</td>\n",
       "    </tr>\n",
       "    <tr>\n",
       "      <th>marital_status</th>\n",
       "      <td>-0.001993</td>\n",
       "      <td>0.000593</td>\n",
       "      <td>-0.004253</td>\n",
       "      <td>-0.003200</td>\n",
       "      <td>0.000291</td>\n",
       "      <td>0.008373</td>\n",
       "      <td>0.000163</td>\n",
       "      <td>0.009797</td>\n",
       "      <td>1.000000</td>\n",
       "      <td>0.012039</td>\n",
       "      <td>-0.000064</td>\n",
       "    </tr>\n",
       "    <tr>\n",
       "      <th>age</th>\n",
       "      <td>0.003780</td>\n",
       "      <td>-0.003005</td>\n",
       "      <td>-0.004611</td>\n",
       "      <td>-0.004158</td>\n",
       "      <td>0.002299</td>\n",
       "      <td>0.003850</td>\n",
       "      <td>0.001815</td>\n",
       "      <td>0.002855</td>\n",
       "      <td>0.012039</td>\n",
       "      <td>1.000000</td>\n",
       "      <td>0.003588</td>\n",
       "    </tr>\n",
       "    <tr>\n",
       "      <th>income</th>\n",
       "      <td>0.002538</td>\n",
       "      <td>-0.000299</td>\n",
       "      <td>0.004621</td>\n",
       "      <td>0.005371</td>\n",
       "      <td>-0.001736</td>\n",
       "      <td>-0.002589</td>\n",
       "      <td>-0.007937</td>\n",
       "      <td>-0.007109</td>\n",
       "      <td>-0.000064</td>\n",
       "      <td>0.003588</td>\n",
       "      <td>1.000000</td>\n",
       "    </tr>\n",
       "  </tbody>\n",
       "</table>\n",
       "</div>"
      ],
      "text/plain": [
       "                  sunday    monday   tuesday  wednesday  thursday    friday  \\\n",
       "sunday          1.000000 -0.167028 -0.166686  -0.167934 -0.167678 -0.168173   \n",
       "monday         -0.167028  1.000000 -0.165501  -0.166740 -0.166486 -0.166978   \n",
       "tuesday        -0.166686 -0.165501  1.000000  -0.166398 -0.166145 -0.166635   \n",
       "wednesday      -0.167934 -0.166740 -0.166398   1.000000 -0.167389 -0.167883   \n",
       "thursday       -0.167678 -0.166486 -0.166145  -0.167389  1.000000 -0.167627   \n",
       "friday         -0.168173 -0.166978 -0.166635  -0.167883 -0.167627  1.000000   \n",
       "saturday       -0.166378 -0.165195 -0.164856  -0.166091 -0.165837 -0.166327   \n",
       "female         -0.011858  0.000703  0.002767   0.003616 -0.004835  0.009517   \n",
       "marital_status -0.001993  0.000593 -0.004253  -0.003200  0.000291  0.008373   \n",
       "age             0.003780 -0.003005 -0.004611  -0.004158  0.002299  0.003850   \n",
       "income          0.002538 -0.000299  0.004621   0.005371 -0.001736 -0.002589   \n",
       "\n",
       "                saturday    female  marital_status       age    income  \n",
       "sunday         -0.166378 -0.011858       -0.001993  0.003780  0.002538  \n",
       "monday         -0.165195  0.000703        0.000593 -0.003005 -0.000299  \n",
       "tuesday        -0.164856  0.002767       -0.004253 -0.004611  0.004621  \n",
       "wednesday      -0.166091  0.003616       -0.003200 -0.004158  0.005371  \n",
       "thursday       -0.165837 -0.004835        0.000291  0.002299 -0.001736  \n",
       "friday         -0.166327  0.009517        0.008373  0.003850 -0.002589  \n",
       "saturday        1.000000  0.000110        0.000163  0.001815 -0.007937  \n",
       "female          0.000110  1.000000        0.009797  0.002855 -0.007109  \n",
       "marital_status  0.000163  0.009797        1.000000  0.012039 -0.000064  \n",
       "age             0.001815  0.002855        0.012039  1.000000  0.003588  \n",
       "income         -0.007937 -0.007109       -0.000064  0.003588  1.000000  "
      ]
     },
     "execution_count": 22,
     "metadata": {},
     "output_type": "execute_result"
    }
   ],
   "source": [
    "train_feat.corr()"
   ]
  },
  {
   "cell_type": "markdown",
   "metadata": {
    "collapsed": false
   },
   "source": [
    "Three models are included in this workbook. Several more complicated models were given a cursory test, but found to have performance no better than linear models and so are not included at this time.\n",
    "1. A typical least-squares regression, targeting revenue\n",
    "2. A logistic regression fit to specify whether a user will make a purchase or not\n",
    "3. A Ridge Regression fit to predict revenue"
   ]
  },
  {
   "cell_type": "code",
   "execution_count": 24,
   "metadata": {
    "collapsed": false
   },
   "outputs": [],
   "source": [
    "log_mod = linear_model.LogisticRegression().fit(train_feat, train.purchase)\n",
    "lin_mod = linear_model.LinearRegression().fit(train_feat, train.profit)\n",
    "#gbm_mod = ensemble.GradientBoostingRegressor().fit(train_feat, train.profit)\n",
    "bayes_mod = linear_model.BayesianRidge().fit(train_feat, train.profit)"
   ]
  },
  {
   "cell_type": "code",
   "execution_count": null,
   "metadata": {
    "collapsed": false
   },
   "outputs": [],
   "source": []
  },
  {
   "cell_type": "code",
   "execution_count": null,
   "metadata": {
    "collapsed": false
   },
   "outputs": [],
   "source": []
  },
  {
   "cell_type": "code",
   "execution_count": null,
   "metadata": {
    "collapsed": false
   },
   "outputs": [],
   "source": []
  },
  {
   "cell_type": "code",
   "execution_count": 25,
   "metadata": {
    "collapsed": false,
    "scrolled": false
   },
   "outputs": [],
   "source": [
    "res['log_class'] = log_mod.predict(test_feat)\n",
    "res['log_purchase'] = log_mod.predict_proba(test_feat)[:, 1]\n",
    "res['log_profit'] = res['log_purchase'] * mean_purchase_amt\n",
    "res['pred_profit'] = lin_mod.predict(test_feat)\n",
    "res['bayes_profit'] = bayes_mod.predict(test_feat)"
   ]
  },
  {
   "cell_type": "code",
   "execution_count": 26,
   "metadata": {
    "collapsed": false
   },
   "outputs": [
    {
     "data": {
      "text/html": [
       "<div>\n",
       "<table border=\"1\" class=\"dataframe\">\n",
       "  <thead>\n",
       "    <tr style=\"text-align: right;\">\n",
       "      <th></th>\n",
       "      <th>purchase</th>\n",
       "      <th>profit</th>\n",
       "      <th>log_class</th>\n",
       "      <th>log_purchase</th>\n",
       "      <th>log_profit</th>\n",
       "      <th>pred_profit</th>\n",
       "      <th>bayes_profit</th>\n",
       "    </tr>\n",
       "  </thead>\n",
       "  <tbody>\n",
       "    <tr>\n",
       "      <th>26167</th>\n",
       "      <td>False</td>\n",
       "      <td>0.0</td>\n",
       "      <td>False</td>\n",
       "      <td>0.236517</td>\n",
       "      <td>2.396105</td>\n",
       "      <td>2.585693</td>\n",
       "      <td>2.590452</td>\n",
       "    </tr>\n",
       "    <tr>\n",
       "      <th>42821</th>\n",
       "      <td>False</td>\n",
       "      <td>0.0</td>\n",
       "      <td>False</td>\n",
       "      <td>0.133979</td>\n",
       "      <td>1.357314</td>\n",
       "      <td>1.318604</td>\n",
       "      <td>1.323761</td>\n",
       "    </tr>\n",
       "    <tr>\n",
       "      <th>11719</th>\n",
       "      <td>False</td>\n",
       "      <td>0.0</td>\n",
       "      <td>False</td>\n",
       "      <td>0.391573</td>\n",
       "      <td>3.966939</td>\n",
       "      <td>3.978760</td>\n",
       "      <td>3.980486</td>\n",
       "    </tr>\n",
       "    <tr>\n",
       "      <th>38790</th>\n",
       "      <td>False</td>\n",
       "      <td>0.0</td>\n",
       "      <td>False</td>\n",
       "      <td>0.073132</td>\n",
       "      <td>0.740883</td>\n",
       "      <td>0.003418</td>\n",
       "      <td>-0.000881</td>\n",
       "    </tr>\n",
       "    <tr>\n",
       "      <th>5328</th>\n",
       "      <td>False</td>\n",
       "      <td>0.0</td>\n",
       "      <td>True</td>\n",
       "      <td>0.554318</td>\n",
       "      <td>5.615678</td>\n",
       "      <td>5.301270</td>\n",
       "      <td>5.294451</td>\n",
       "    </tr>\n",
       "  </tbody>\n",
       "</table>\n",
       "</div>"
      ],
      "text/plain": [
       "      purchase  profit log_class  log_purchase  log_profit  pred_profit  \\\n",
       "26167    False     0.0     False      0.236517    2.396105     2.585693   \n",
       "42821    False     0.0     False      0.133979    1.357314     1.318604   \n",
       "11719    False     0.0     False      0.391573    3.966939     3.978760   \n",
       "38790    False     0.0     False      0.073132    0.740883     0.003418   \n",
       "5328     False     0.0      True      0.554318    5.615678     5.301270   \n",
       "\n",
       "       bayes_profit  \n",
       "26167      2.590452  \n",
       "42821      1.323761  \n",
       "11719      3.980486  \n",
       "38790     -0.000881  \n",
       "5328       5.294451  "
      ]
     },
     "execution_count": 26,
     "metadata": {},
     "output_type": "execute_result"
    }
   ],
   "source": [
    "res.head(5)"
   ]
  },
  {
   "cell_type": "code",
   "execution_count": 27,
   "metadata": {
    "collapsed": false
   },
   "outputs": [
    {
     "data": {
      "text/plain": [
       "23.60138764761442"
      ]
     },
     "execution_count": 27,
     "metadata": {},
     "output_type": "execute_result"
    }
   ],
   "source": [
    "mean_squared_error(res.profit, res.log_profit)"
   ]
  },
  {
   "cell_type": "code",
   "execution_count": 28,
   "metadata": {
    "collapsed": false
   },
   "outputs": [
    {
     "data": {
      "text/plain": [
       "23.656620061516762"
      ]
     },
     "execution_count": 28,
     "metadata": {},
     "output_type": "execute_result"
    }
   ],
   "source": [
    "mean_squared_error(res.profit, res.pred_profit)"
   ]
  },
  {
   "cell_type": "code",
   "execution_count": 29,
   "metadata": {
    "collapsed": false
   },
   "outputs": [
    {
     "data": {
      "text/plain": [
       "23.655102379355121"
      ]
     },
     "execution_count": 29,
     "metadata": {},
     "output_type": "execute_result"
    }
   ],
   "source": [
    "mean_squared_error(res.profit, res.bayes_profit)"
   ]
  },
  {
   "cell_type": "code",
   "execution_count": 32,
   "metadata": {
    "collapsed": false
   },
   "outputs": [
    {
     "data": {
      "text/plain": [
       "array([[ 350, 2328],\n",
       "       [ 333, 6989]])"
      ]
     },
     "execution_count": 32,
     "metadata": {},
     "output_type": "execute_result"
    }
   ],
   "source": [
    "confusion_matrix(res.purchase, res.log_class, labels = [True, False])"
   ]
  },
  {
   "cell_type": "code",
   "execution_count": null,
   "metadata": {
    "collapsed": false
   },
   "outputs": [],
   "source": []
  },
  {
   "cell_type": "markdown",
   "metadata": {
    "collapsed": false
   },
   "source": [
    "The above analysis of our model is useful, but we may be able to get better results by dropping out users we are uncertian about. Unfortunately, the model does not seem to be very certian about anyone... our max score is .66 out or 1.00"
   ]
  },
  {
   "cell_type": "code",
   "execution_count": null,
   "metadata": {
    "collapsed": false
   },
   "outputs": [],
   "source": [
    "test.loc[res.score < 0.25, 'profit'].mean(), test.loc[res.score < 0.25, 'profit'].count()"
   ]
  },
  {
   "cell_type": "code",
   "execution_count": null,
   "metadata": {
    "collapsed": false
   },
   "outputs": [],
   "source": [
    "test.loc[ np.logical_and(0.25 < res.score, res.score < 0.5), 'profit'].mean(), test.loc[ np.logical_and(0.25 < res.score, res.score < 0.5), 'profit'].count()"
   ]
  },
  {
   "cell_type": "code",
   "execution_count": null,
   "metadata": {
    "collapsed": false
   },
   "outputs": [],
   "source": [
    "test.loc[ 0.5 < res.score, 'profit'].mean(), test.loc[ 0.5 < res.score, 'profit'].count()"
   ]
  },
  {
   "cell_type": "markdown",
   "metadata": {
    "collapsed": false
   },
   "source": [
    "Since no clear winner is present, we go with the logistic regression, since our AI Agents can get both a probability of purchase and an estimated revenue, while the other model only offers the latter value."
   ]
  },
  {
   "cell_type": "code",
   "execution_count": null,
   "metadata": {
    "collapsed": true
   },
   "outputs": [],
   "source": [
    "pickle.dump(log_mod, open( data_fp+'/model.p', 'wb'))"
   ]
  },
  {
   "cell_type": "code",
   "execution_count": null,
   "metadata": {
    "collapsed": true
   },
   "outputs": [],
   "source": []
  },
  {
   "cell_type": "code",
   "execution_count": null,
   "metadata": {
    "collapsed": true
   },
   "outputs": [],
   "source": []
  },
  {
   "cell_type": "code",
   "execution_count": null,
   "metadata": {
    "collapsed": false
   },
   "outputs": [],
   "source": [
    "any(res.pred)"
   ]
  },
  {
   "cell_type": "code",
   "execution_count": null,
   "metadata": {
    "collapsed": true
   },
   "outputs": [],
   "source": []
  }
 ],
 "metadata": {
  "anaconda-cloud": {},
  "kernelspec": {
   "display_name": "Python [conda env:anaconda]",
   "language": "python",
   "name": "conda-env-anaconda-py"
  },
  "language_info": {
   "codemirror_mode": {
    "name": "ipython",
    "version": 3
   },
   "file_extension": ".py",
   "mimetype": "text/x-python",
   "name": "python",
   "nbconvert_exporter": "python",
   "pygments_lexer": "ipython3",
   "version": "3.5.2"
  }
 },
 "nbformat": 4,
 "nbformat_minor": 1
}
