{
 "cells": [
  {
   "cell_type": "code",
   "execution_count": 1,
   "metadata": {
    "collapsed": false
   },
   "outputs": [],
   "source": [
    "import numpy as np\n",
    "import pandas as pd\n",
    "import pickle\n",
    "\n",
    "\n",
    "from querents import Querent\n",
    "#from bidders import AnnealingBidder\n",
    "import bidders\n",
    "\n",
    "\n",
    "data_fp = '/mnt/c/data/b2w/run4'\n",
    "model_fp = '/mnt/c/data/b2w/model.p'\n",
    "progress_fp = base_dir = '/mnt/c/data/b2w/results.p'"
   ]
  },
  {
   "cell_type": "code",
   "execution_count": 2,
   "metadata": {
    "collapsed": true
   },
   "outputs": [],
   "source": [
    "## Construct our dependencies for use in the bidder...\n",
    "model = pickle.load(open(model_fp, 'rb'))\n",
    "#qr = Querent(data_fp, 'Adag56VLl9B1ragWqxC8s4rRaHICvAj2')\n",
    "qr = Querent(data_fp, 'PDqYeIvIEBh0VvvJtA5ofyF2rbAH4Nti')\n",
    "state_list = pickle.load(open(progress_fp, 'rb'))"
   ]
  },
  {
   "cell_type": "code",
   "execution_count": 3,
   "metadata": {
    "collapsed": false
   },
   "outputs": [],
   "source": [
    "## Now instantiate a bidder\n",
    "bidder = bidders.AnnealingBidder(model, qr, timescale = 100, initial_increment = 0.10)"
   ]
  },
  {
   "cell_type": "code",
   "execution_count": null,
   "metadata": {
    "collapsed": false
   },
   "outputs": [],
   "source": []
  },
  {
   "cell_type": "code",
   "execution_count": null,
   "metadata": {
    "collapsed": false
   },
   "outputs": [],
   "source": []
  },
  {
   "cell_type": "code",
   "execution_count": 4,
   "metadata": {
    "collapsed": false
   },
   "outputs": [],
   "source": [
    "## Execute a batch of bids... then inspect the results\n",
    "bidder.execute_bids(20)\n",
    "state_list.append(qr.get_progress())\n",
    "pickle.dump(state_list, open(progress_fp, 'wb'))"
   ]
  },
  {
   "cell_type": "code",
   "execution_count": 5,
   "metadata": {
    "collapsed": false,
    "scrolled": true
   },
   "outputs": [
    {
     "data": {
      "text/plain": [
       "({'bids_won': 401,\n",
       "  'error_message': None,\n",
       "  'result': 'success',\n",
       "  'total_amount_spent': 674.736676124358,\n",
       "  'total_bids': 2500,\n",
       "  'total_net_profit': 39.2633238756411,\n",
       "  'total_profit': 714.0,\n",
       "  'total_return_on_amount_spent': 0.0581905879211531},\n",
       " {'bids_won': 406,\n",
       "  'error_message': None,\n",
       "  'result': 'success',\n",
       "  'total_amount_spent': 680.454278707997,\n",
       "  'total_bids': 2520,\n",
       "  'total_net_profit': 51.5457212920026,\n",
       "  'total_profit': 732.0,\n",
       "  'total_return_on_amount_spent': 0.075751924713993})"
      ]
     },
     "execution_count": 5,
     "metadata": {},
     "output_type": "execute_result"
    }
   ],
   "source": [
    "cst = qr.customers\n",
    "wins = cst.loc[cst.win == True, :]\n",
    "loss = cst.loc[cst.win == False, :]\n",
    "state_list[-2], state_list[-1]"
   ]
  },
  {
   "cell_type": "code",
   "execution_count": null,
   "metadata": {
    "collapsed": false
   },
   "outputs": [],
   "source": []
  },
  {
   "cell_type": "code",
   "execution_count": 6,
   "metadata": {
    "collapsed": false
   },
   "outputs": [
    {
     "data": {
      "text/html": [
       "<div>\n",
       "<table border=\"1\" class=\"dataframe\">\n",
       "  <thead>\n",
       "    <tr style=\"text-align: right;\">\n",
       "      <th></th>\n",
       "      <th>age</th>\n",
       "      <th>bid</th>\n",
       "      <th>day_of_week</th>\n",
       "      <th>error_message</th>\n",
       "      <th>gender</th>\n",
       "      <th>income</th>\n",
       "      <th>marital_status</th>\n",
       "      <th>profit</th>\n",
       "      <th>result</th>\n",
       "      <th>user_id</th>\n",
       "      <th>user_index</th>\n",
       "      <th>win</th>\n",
       "    </tr>\n",
       "  </thead>\n",
       "  <tbody>\n",
       "    <tr>\n",
       "      <th>2487</th>\n",
       "      <td>63</td>\n",
       "      <td>1.553990</td>\n",
       "      <td>Saturday</td>\n",
       "      <td>NaN</td>\n",
       "      <td>M</td>\n",
       "      <td>133307</td>\n",
       "      <td>M</td>\n",
       "      <td>0.0</td>\n",
       "      <td>success</td>\n",
       "      <td>ebaee37ab9b086a131e393d3bebbdbb0</td>\n",
       "      <td>2487</td>\n",
       "      <td>True</td>\n",
       "    </tr>\n",
       "    <tr>\n",
       "      <th>2489</th>\n",
       "      <td>65</td>\n",
       "      <td>0.897026</td>\n",
       "      <td>Monday</td>\n",
       "      <td>NaN</td>\n",
       "      <td>F</td>\n",
       "      <td>87407</td>\n",
       "      <td>S</td>\n",
       "      <td>0.0</td>\n",
       "      <td>success</td>\n",
       "      <td>4eb058d3526d22ea7faaab28add2d46c</td>\n",
       "      <td>2489</td>\n",
       "      <td>True</td>\n",
       "    </tr>\n",
       "    <tr>\n",
       "      <th>2494</th>\n",
       "      <td>44</td>\n",
       "      <td>1.717925</td>\n",
       "      <td>Saturday</td>\n",
       "      <td>NaN</td>\n",
       "      <td>F</td>\n",
       "      <td>34197</td>\n",
       "      <td>M</td>\n",
       "      <td>0.0</td>\n",
       "      <td>success</td>\n",
       "      <td>0921b39d7575ffdff8a7f92bb049ac68</td>\n",
       "      <td>2494</td>\n",
       "      <td>True</td>\n",
       "    </tr>\n",
       "    <tr>\n",
       "      <th>2496</th>\n",
       "      <td>40</td>\n",
       "      <td>0.987690</td>\n",
       "      <td>Monday</td>\n",
       "      <td>NaN</td>\n",
       "      <td>F</td>\n",
       "      <td>20236</td>\n",
       "      <td>M</td>\n",
       "      <td>8.0</td>\n",
       "      <td>success</td>\n",
       "      <td>f55942749696f798edc8d316add768ce</td>\n",
       "      <td>2496</td>\n",
       "      <td>True</td>\n",
       "    </tr>\n",
       "    <tr>\n",
       "      <th>2497</th>\n",
       "      <td>61</td>\n",
       "      <td>1.118907</td>\n",
       "      <td>Tuesday</td>\n",
       "      <td>NaN</td>\n",
       "      <td>M</td>\n",
       "      <td>105602</td>\n",
       "      <td>S</td>\n",
       "      <td>0.0</td>\n",
       "      <td>success</td>\n",
       "      <td>6520ed1d14282a26a512b3fb44070108</td>\n",
       "      <td>2497</td>\n",
       "      <td>True</td>\n",
       "    </tr>\n",
       "    <tr>\n",
       "      <th>2502</th>\n",
       "      <td>40</td>\n",
       "      <td>1.288086</td>\n",
       "      <td>Sunday</td>\n",
       "      <td>None</td>\n",
       "      <td>M</td>\n",
       "      <td>64291</td>\n",
       "      <td>M</td>\n",
       "      <td>0.0</td>\n",
       "      <td>success</td>\n",
       "      <td>6f82e3696cd1abc843ec92026b903ed7</td>\n",
       "      <td>2502</td>\n",
       "      <td>True</td>\n",
       "    </tr>\n",
       "    <tr>\n",
       "      <th>2503</th>\n",
       "      <td>50</td>\n",
       "      <td>1.106690</td>\n",
       "      <td>Monday</td>\n",
       "      <td>None</td>\n",
       "      <td>F</td>\n",
       "      <td>92348</td>\n",
       "      <td>M</td>\n",
       "      <td>18.0</td>\n",
       "      <td>success</td>\n",
       "      <td>470ab0c4679a22381dcfd3e07a9649d3</td>\n",
       "      <td>2503</td>\n",
       "      <td>True</td>\n",
       "    </tr>\n",
       "    <tr>\n",
       "      <th>2504</th>\n",
       "      <td>59</td>\n",
       "      <td>0.696633</td>\n",
       "      <td>Tuesday</td>\n",
       "      <td>None</td>\n",
       "      <td>M</td>\n",
       "      <td>31878</td>\n",
       "      <td>S</td>\n",
       "      <td>0.0</td>\n",
       "      <td>success</td>\n",
       "      <td>d7bad9bcf0161ef936cb389029b95725</td>\n",
       "      <td>2504</td>\n",
       "      <td>True</td>\n",
       "    </tr>\n",
       "    <tr>\n",
       "      <th>2513</th>\n",
       "      <td>49</td>\n",
       "      <td>1.724000</td>\n",
       "      <td>Thursday</td>\n",
       "      <td>None</td>\n",
       "      <td>F</td>\n",
       "      <td>69576</td>\n",
       "      <td>S</td>\n",
       "      <td>0.0</td>\n",
       "      <td>success</td>\n",
       "      <td>9fd6989e18fc03d84e3178da1561b43a</td>\n",
       "      <td>2513</td>\n",
       "      <td>True</td>\n",
       "    </tr>\n",
       "    <tr>\n",
       "      <th>2517</th>\n",
       "      <td>53</td>\n",
       "      <td>0.902194</td>\n",
       "      <td>Monday</td>\n",
       "      <td>None</td>\n",
       "      <td>M</td>\n",
       "      <td>88252</td>\n",
       "      <td>M</td>\n",
       "      <td>0.0</td>\n",
       "      <td>success</td>\n",
       "      <td>081f7790111478ff8ecc6edfa0fe334f</td>\n",
       "      <td>2517</td>\n",
       "      <td>True</td>\n",
       "    </tr>\n",
       "  </tbody>\n",
       "</table>\n",
       "</div>"
      ],
      "text/plain": [
       "      age       bid day_of_week error_message gender  income marital_status  \\\n",
       "2487   63  1.553990    Saturday           NaN      M  133307              M   \n",
       "2489   65  0.897026      Monday           NaN      F   87407              S   \n",
       "2494   44  1.717925    Saturday           NaN      F   34197              M   \n",
       "2496   40  0.987690      Monday           NaN      F   20236              M   \n",
       "2497   61  1.118907     Tuesday           NaN      M  105602              S   \n",
       "2502   40  1.288086      Sunday          None      M   64291              M   \n",
       "2503   50  1.106690      Monday          None      F   92348              M   \n",
       "2504   59  0.696633     Tuesday          None      M   31878              S   \n",
       "2513   49  1.724000    Thursday          None      F   69576              S   \n",
       "2517   53  0.902194      Monday          None      M   88252              M   \n",
       "\n",
       "      profit   result                           user_id  user_index   win  \n",
       "2487     0.0  success  ebaee37ab9b086a131e393d3bebbdbb0        2487  True  \n",
       "2489     0.0  success  4eb058d3526d22ea7faaab28add2d46c        2489  True  \n",
       "2494     0.0  success  0921b39d7575ffdff8a7f92bb049ac68        2494  True  \n",
       "2496     8.0  success  f55942749696f798edc8d316add768ce        2496  True  \n",
       "2497     0.0  success  6520ed1d14282a26a512b3fb44070108        2497  True  \n",
       "2502     0.0  success  6f82e3696cd1abc843ec92026b903ed7        2502  True  \n",
       "2503    18.0  success  470ab0c4679a22381dcfd3e07a9649d3        2503  True  \n",
       "2504     0.0  success  d7bad9bcf0161ef936cb389029b95725        2504  True  \n",
       "2513     0.0  success  9fd6989e18fc03d84e3178da1561b43a        2513  True  \n",
       "2517     0.0  success  081f7790111478ff8ecc6edfa0fe334f        2517  True  "
      ]
     },
     "execution_count": 6,
     "metadata": {},
     "output_type": "execute_result"
    }
   ],
   "source": [
    "wins.tail(10)"
   ]
  },
  {
   "cell_type": "code",
   "execution_count": null,
   "metadata": {
    "collapsed": false
   },
   "outputs": [],
   "source": [
    "cst.tail(10)"
   ]
  },
  {
   "cell_type": "code",
   "execution_count": null,
   "metadata": {
    "collapsed": false
   },
   "outputs": [],
   "source": []
  },
  {
   "cell_type": "code",
   "execution_count": null,
   "metadata": {
    "collapsed": false
   },
   "outputs": [],
   "source": []
  },
  {
   "cell_type": "code",
   "execution_count": null,
   "metadata": {
    "collapsed": false
   },
   "outputs": [],
   "source": []
  },
  {
   "cell_type": "code",
   "execution_count": null,
   "metadata": {
    "collapsed": false
   },
   "outputs": [],
   "source": []
  },
  {
   "cell_type": "code",
   "execution_count": null,
   "metadata": {
    "collapsed": false
   },
   "outputs": [],
   "source": []
  },
  {
   "cell_type": "code",
   "execution_count": null,
   "metadata": {
    "collapsed": false
   },
   "outputs": [],
   "source": []
  },
  {
   "cell_type": "code",
   "execution_count": null,
   "metadata": {
    "collapsed": false
   },
   "outputs": [],
   "source": []
  },
  {
   "cell_type": "code",
   "execution_count": null,
   "metadata": {
    "collapsed": true
   },
   "outputs": [],
   "source": []
  }
 ],
 "metadata": {
  "anaconda-cloud": {},
  "kernelspec": {
   "display_name": "Python [conda env:anaconda]",
   "language": "python",
   "name": "conda-env-anaconda-py"
  },
  "language_info": {
   "codemirror_mode": {
    "name": "ipython",
    "version": 3
   },
   "file_extension": ".py",
   "mimetype": "text/x-python",
   "name": "python",
   "nbconvert_exporter": "python",
   "pygments_lexer": "ipython3",
   "version": "3.5.2"
  }
 },
 "nbformat": 4,
 "nbformat_minor": 1
}
